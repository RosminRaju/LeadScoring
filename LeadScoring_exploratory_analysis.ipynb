{
 "cells": [
  {
   "cell_type": "code",
   "execution_count": 72,
   "metadata": {
    "collapsed": true
   },
   "outputs": [],
   "source": [
    "%matplotlib inline\n",
    "import pandas as pd\n",
    "import datetime as dt\n",
    "import matplotlib.pyplot as plt\n",
    "import scipy as sp\n",
    "import numpy as np\n",
    "import pickle\n",
    "\n",
    "plt.style.use('fivethirtyeight')\n",
    "pd.set_option('display.max_columns', None)\n",
    "\n",
    "import seaborn as sns\n",
    "from IPython.display import Image"
   ]
  },
  {
   "cell_type": "markdown",
   "metadata": {},
   "source": [
    "<h3>Load Data</h3>\n",
    "<p>Data files used:\n",
    "<li><b>sf_leads_leadscoring_20180307</b> - Data exported from SF. Uses order_id__c, tenant as primiary keys\n",
    "<li><b>ga_user_paths_20180306</b>  - Data exported from GA, records landingpagepath history from GA and marketing sources of each session\n",
    "<li><b>trial_conversions_20180308</b> - Data exporter from stripe and BI warehouse, indicates whether or not the trial eventually converted"
   ]
  },
  {
   "cell_type": "code",
   "execution_count": 2,
   "metadata": {},
   "outputs": [],
   "source": [
    "SF_leads = pd.read_csv('sf_leads_leadscoring_20180307.csv', index_col = False,  low_memory=False, dtype=str)\n",
    "paths = pd.read_csv('ga_user_paths_20180306.csv', index_col=False, low_memory=False, dtype=str)\n",
    "trial_cohort= pd.read_csv('trial_conversions_20180308.csv', index_col = False, low_memory=False, dtype=str)"
   ]
  },
  {
   "cell_type": "markdown",
   "metadata": {},
   "source": [
    "deduplicate leads"
   ]
  },
  {
   "cell_type": "code",
   "execution_count": 3,
   "metadata": {},
   "outputs": [],
   "source": [
    "SF_leads['trial_id'] = SF_leads['Order_ID__c'].combine_first(SF_leads['tenant_id__c'])\n",
    "SF_leads = SF_leads.sort_values(['trial_id', 'lead_createdate'], ascending=False).groupby('trial_id').first().reset_index()\n"
   ]
  },
  {
   "cell_type": "markdown",
   "metadata": {},
   "source": [
    "convert to datetime"
   ]
  },
  {
   "cell_type": "code",
   "execution_count": 4,
   "metadata": {},
   "outputs": [],
   "source": [
    "SF_leads['lead_createdate'] = pd.to_datetime(SF_leads['lead_createdate'])\n",
    "SF_leads['opp_createdate'] = pd.to_datetime(SF_leads['opp_createdate'])\n",
    "SF_leads['CloseDate'] = pd.to_datetime(SF_leads['CloseDate'])\n"
   ]
  },
  {
   "cell_type": "code",
   "execution_count": 10,
   "metadata": {},
   "outputs": [],
   "source": [
    "paths['session_date'] = pd.to_datetime(paths['date'])"
   ]
  },
  {
   "cell_type": "code",
   "execution_count": 11,
   "metadata": {
    "collapsed": true
   },
   "outputs": [],
   "source": [
    "trial_cohort['trial_date'] = pd.to_datetime(trial_cohort['trial_date'])\n",
    "trial_cohort['sub_date'] = pd.to_datetime(trial_cohort['sub_date'])"
   ]
  },
  {
   "cell_type": "markdown",
   "metadata": {},
   "source": [
    "Transform values and merge dataset"
   ]
  },
  {
   "cell_type": "code",
   "execution_count": 43,
   "metadata": {},
   "outputs": [],
   "source": [
    "SF_leads['converted_to_opp'] = SF_leads['converted_to_opp'].apply(lambda x: 1 if x == 'true' else 0)\n",
    "SF_leads['created_date_dt'] = SF_leads['lead_createdate'].apply(lambda x: x.date())\n",
    "trial_cohort['converted'] = trial_cohort['sub_id'].fillna('0').apply(lambda x: 0 if x == '0' else 1)\n",
    "merged = SF_leads.set_index('trial_id').join(trial_cohort.set_index('tenant_orderid'), how = 'inner')\n",
    "\n",
    "\n",
    "#only want to keep marketing sources of first demo session\n",
    "marketing_sources = paths[paths['first_demo_session'].notnull()]\n",
    "\n",
    "data_merge = marketing_sources.set_index('demo_lookup').join(merged.set_index('tenant_orderdetailid'), how='inner', lsuffix = '_ms')\n",
    "\n"
   ]
  },
  {
   "cell_type": "markdown",
   "metadata": {},
   "source": [
    "Get rid of mismatched leads. Leads that have marketing sources after145 days of their trial date"
   ]
  },
  {
   "cell_type": "code",
   "execution_count": 44,
   "metadata": {},
   "outputs": [],
   "source": [
    "data_merge['time_mismatch'] = data_merge['session_date'] - data_merge['trial_date']\n",
    "\n",
    "data_merge['time_mismatch'] = data_merge['time_mismatch'].apply(lambda x: x.days)"
   ]
  },
  {
   "cell_type": "code",
   "execution_count": 45,
   "metadata": {},
   "outputs": [
    {
     "data": {
      "text/html": [
       "<div>\n",
       "<style>\n",
       "    .dataframe thead tr:only-child th {\n",
       "        text-align: right;\n",
       "    }\n",
       "\n",
       "    .dataframe thead th {\n",
       "        text-align: left;\n",
       "    }\n",
       "\n",
       "    .dataframe tbody tr th {\n",
       "        vertical-align: top;\n",
       "    }\n",
       "</style>\n",
       "<table border=\"1\" class=\"dataframe\">\n",
       "  <thead>\n",
       "    <tr style=\"text-align: right;\">\n",
       "      <th></th>\n",
       "      <th>Number_of_products_selling__c</th>\n",
       "      <th>converted_to_opp</th>\n",
       "      <th>converted</th>\n",
       "      <th>time_mismatch</th>\n",
       "    </tr>\n",
       "  </thead>\n",
       "  <tbody>\n",
       "    <tr>\n",
       "      <th>count</th>\n",
       "      <td>0.0</td>\n",
       "      <td>20919.0</td>\n",
       "      <td>20919.000000</td>\n",
       "      <td>20919.000000</td>\n",
       "    </tr>\n",
       "    <tr>\n",
       "      <th>mean</th>\n",
       "      <td>NaN</td>\n",
       "      <td>0.0</td>\n",
       "      <td>0.094651</td>\n",
       "      <td>0.063148</td>\n",
       "    </tr>\n",
       "    <tr>\n",
       "      <th>std</th>\n",
       "      <td>NaN</td>\n",
       "      <td>0.0</td>\n",
       "      <td>0.292739</td>\n",
       "      <td>1.434579</td>\n",
       "    </tr>\n",
       "    <tr>\n",
       "      <th>min</th>\n",
       "      <td>NaN</td>\n",
       "      <td>0.0</td>\n",
       "      <td>0.000000</td>\n",
       "      <td>-126.000000</td>\n",
       "    </tr>\n",
       "    <tr>\n",
       "      <th>25%</th>\n",
       "      <td>NaN</td>\n",
       "      <td>0.0</td>\n",
       "      <td>0.000000</td>\n",
       "      <td>0.000000</td>\n",
       "    </tr>\n",
       "    <tr>\n",
       "      <th>50%</th>\n",
       "      <td>NaN</td>\n",
       "      <td>0.0</td>\n",
       "      <td>0.000000</td>\n",
       "      <td>0.000000</td>\n",
       "    </tr>\n",
       "    <tr>\n",
       "      <th>75%</th>\n",
       "      <td>NaN</td>\n",
       "      <td>0.0</td>\n",
       "      <td>0.000000</td>\n",
       "      <td>0.000000</td>\n",
       "    </tr>\n",
       "    <tr>\n",
       "      <th>max</th>\n",
       "      <td>NaN</td>\n",
       "      <td>0.0</td>\n",
       "      <td>1.000000</td>\n",
       "      <td>14.000000</td>\n",
       "    </tr>\n",
       "  </tbody>\n",
       "</table>\n",
       "</div>"
      ],
      "text/plain": [
       "       Number_of_products_selling__c  converted_to_opp     converted  \\\n",
       "count                            0.0           20919.0  20919.000000   \n",
       "mean                             NaN               0.0      0.094651   \n",
       "std                              NaN               0.0      0.292739   \n",
       "min                              NaN               0.0      0.000000   \n",
       "25%                              NaN               0.0      0.000000   \n",
       "50%                              NaN               0.0      0.000000   \n",
       "75%                              NaN               0.0      0.000000   \n",
       "max                              NaN               0.0      1.000000   \n",
       "\n",
       "       time_mismatch  \n",
       "count   20919.000000  \n",
       "mean        0.063148  \n",
       "std         1.434579  \n",
       "min      -126.000000  \n",
       "25%         0.000000  \n",
       "50%         0.000000  \n",
       "75%         0.000000  \n",
       "max        14.000000  "
      ]
     },
     "execution_count": 45,
     "metadata": {},
     "output_type": "execute_result"
    }
   ],
   "source": [
    "data_merge[data_merge['time_mismatch'] <= 14].describe()"
   ]
  },
  {
   "cell_type": "markdown",
   "metadata": {},
   "source": [
    "What do the trials look like?"
   ]
  },
  {
   "cell_type": "code",
   "execution_count": 60,
   "metadata": {},
   "outputs": [
    {
     "data": {
      "text/plain": [
       "<matplotlib.axes._subplots.AxesSubplot at 0x26bdb1c470>"
      ]
     },
     "execution_count": 60,
     "metadata": {},
     "output_type": "execute_result"
    },
    {
     "data": {
      "image/png": "[encoded data removed]",
      "text/plain": [
       "<matplotlib.figure.Figure at 0x26bdaac320>"
      ]
     },
     "metadata": {},
     "output_type": "display_data"
    }
   ],
   "source": [
    "data_merge[data_merge['trial_date'] >= dt.datetime(2017,7,1)].reset_index().groupby(['created_date_dt']).count()['index'].plot()"
   ]
  },
  {
   "cell_type": "code",
   "execution_count": 59,
   "metadata": {},
   "outputs": [
    {
     "data": {
      "text/plain": [
       "<matplotlib.axes._subplots.AxesSubplot at 0x26bdb43cc0>"
      ]
     },
     "execution_count": 59,
     "metadata": {},
     "output_type": "execute_result"
    },
    {
     "data": {
      "image/png": "[encoded data removed]",
      "text/plain": [
       "<matplotlib.figure.Figure at 0x26aeed22b0>"
      ]
     },
     "metadata": {},
     "output_type": "display_data"
    }
   ],
   "source": [
    "SF_leads[SF_leads['lead_createdate'] >= dt.datetime(2017, 7,1)].groupby('created_date_dt').count()['trial_id'].plot()"
   ]
  },
  {
   "cell_type": "code",
   "execution_count": 64,
   "metadata": {},
   "outputs": [
    {
     "data": {
      "text/plain": [
       "<matplotlib.axes._subplots.AxesSubplot at 0x26bf5d6898>"
      ]
     },
     "execution_count": 64,
     "metadata": {},
     "output_type": "execute_result"
    },
    {
     "data": {
      "image/png": "[encoded data removed]",
      "text/plain": [
       "<matplotlib.figure.Figure at 0x26bf5de4e0>"
      ]
     },
     "metadata": {},
     "output_type": "display_data"
    }
   ],
   "source": [
    "trial_cohort[trial_cohort['trial_date'] >= dt.datetime(2017, 7,1)].groupby('trial_date').count()['tenant_orderid'].plot()"
   ]
  },
  {
   "cell_type": "code",
   "execution_count": 73,
   "metadata": {
    "collapsed": true
   },
   "outputs": [],
   "source": [
    "data_merge.to_pickle('raw_merged_data')"
   ]
  },
  {
   "cell_type": "code",
   "execution_count": 66,
   "metadata": {
    "collapsed": true
   },
   "outputs": [],
   "source": [
    "column_list = ['landingPagePath', 'deviceCategory',\n",
    "       'adDistributionNetwork', 'adDestinationUrl', 'source', 'medium', 'socialNetwork',\n",
    "               'transaction_id', 'campaign', 'adgroup', 'keyword',\n",
    "       'adKeywordMatchType', 'country_ms', 'click_id',\n",
    "       'session_date', 'Lead_Type__c','leadsource', 'Lead_Owner_Full_Name__c',\n",
    "       'Original_Lead_Owner__c', 'Device_Type__c', 'Reason_Not_Qualified__c',\n",
    "       'SMS_Opt_in__c', 'Industry__c', 'SocialSignUp__c', 'Gender__c', 'Have_products__c',\n",
    "               'Position__c', 'country', 'Status',\n",
    "       'lead_createdate', 'converted_to_opp', 'opp_createdate', 'iswon',\n",
    "       'CloseDate', 'trial_date', 'sub_date', 'converted']"
   ]
  },
  {
   "cell_type": "code",
   "execution_count": 71,
   "metadata": {
    "scrolled": true
   },
   "outputs": [
    {
     "data": {
      "text/html": [
       "<div>\n",
       "<style>\n",
       "    .dataframe thead tr:only-child th {\n",
       "        text-align: right;\n",
       "    }\n",
       "\n",
       "    .dataframe thead th {\n",
       "        text-align: left;\n",
       "    }\n",
       "\n",
       "    .dataframe tbody tr th {\n",
       "        vertical-align: top;\n",
       "    }\n",
       "</style>\n",
       "<table border=\"1\" class=\"dataframe\">\n",
       "  <thead>\n",
       "    <tr style=\"text-align: right;\">\n",
       "      <th></th>\n",
       "      <th>landingPagePath</th>\n",
       "      <th>deviceCategory</th>\n",
       "      <th>adDistributionNetwork</th>\n",
       "      <th>adDestinationUrl</th>\n",
       "      <th>source</th>\n",
       "      <th>medium</th>\n",
       "      <th>socialNetwork</th>\n",
       "      <th>transaction_id</th>\n",
       "      <th>campaign</th>\n",
       "      <th>adgroup</th>\n",
       "      <th>keyword</th>\n",
       "      <th>adKeywordMatchType</th>\n",
       "      <th>country_ms</th>\n",
       "      <th>click_id</th>\n",
       "      <th>session_date</th>\n",
       "      <th>Lead_Type__c</th>\n",
       "      <th>leadsource</th>\n",
       "      <th>Lead_Owner_Full_Name__c</th>\n",
       "      <th>Original_Lead_Owner__c</th>\n",
       "      <th>Device_Type__c</th>\n",
       "      <th>Reason_Not_Qualified__c</th>\n",
       "      <th>SMS_Opt_in__c</th>\n",
       "      <th>Industry__c</th>\n",
       "      <th>SocialSignUp__c</th>\n",
       "      <th>Gender__c</th>\n",
       "      <th>Have_products__c</th>\n",
       "      <th>Position__c</th>\n",
       "      <th>country</th>\n",
       "      <th>Status</th>\n",
       "      <th>lead_createdate</th>\n",
       "      <th>converted_to_opp</th>\n",
       "      <th>opp_createdate</th>\n",
       "      <th>iswon</th>\n",
       "      <th>CloseDate</th>\n",
       "      <th>trial_date</th>\n",
       "      <th>sub_date</th>\n",
       "      <th>converted</th>\n",
       "    </tr>\n",
       "  </thead>\n",
       "  <tbody>\n",
       "    <tr>\n",
       "      <th>2314403</th>\n",
       "      <td>www.volusion.com/grow</td>\n",
       "      <td>desktop</td>\n",
       "      <td>(not set)</td>\n",
       "      <td>(not set)</td>\n",
       "      <td>google</td>\n",
       "      <td>organic</td>\n",
       "      <td>(not set)</td>\n",
       "      <td>NaN</td>\n",
       "      <td>(not set)</td>\n",
       "      <td>(not set)</td>\n",
       "      <td>(not provided)</td>\n",
       "      <td>(not set)</td>\n",
       "      <td>Canada</td>\n",
       "      <td>NaN</td>\n",
       "      <td>2017-08-01</td>\n",
       "      <td>direct</td>\n",
       "      <td>V1 Sales</td>\n",
       "      <td>AJ Bale</td>\n",
       "      <td>AJ Bale</td>\n",
       "      <td>NaN</td>\n",
       "      <td>NaN</td>\n",
       "      <td>false</td>\n",
       "      <td>Other</td>\n",
       "      <td>NaN</td>\n",
       "      <td>NaN</td>\n",
       "      <td>NaN</td>\n",
       "      <td>NaN</td>\n",
       "      <td>Canada</td>\n",
       "      <td>Qualified</td>\n",
       "      <td>2017-01-10 16:50:54</td>\n",
       "      <td>0</td>\n",
       "      <td>2017-01-10 17:14:26</td>\n",
       "      <td>true</td>\n",
       "      <td>2017-01-10</td>\n",
       "      <td>2017-01-10</td>\n",
       "      <td>2017-01-10</td>\n",
       "      <td>1</td>\n",
       "    </tr>\n",
       "    <tr>\n",
       "      <th>2315986</th>\n",
       "      <td>store.volusion.com/login.asp</td>\n",
       "      <td>desktop</td>\n",
       "      <td>(not set)</td>\n",
       "      <td>(not set)</td>\n",
       "      <td>bing</td>\n",
       "      <td>organic</td>\n",
       "      <td>(not set)</td>\n",
       "      <td>NaN</td>\n",
       "      <td>(not set)</td>\n",
       "      <td>(not set)</td>\n",
       "      <td>(not provided)</td>\n",
       "      <td>(not set)</td>\n",
       "      <td>United States</td>\n",
       "      <td>NaN</td>\n",
       "      <td>2017-07-13</td>\n",
       "      <td>organic</td>\n",
       "      <td>V1 Sales</td>\n",
       "      <td>Kelsey Long</td>\n",
       "      <td>Kelsey Long</td>\n",
       "      <td>NaN</td>\n",
       "      <td>NaN</td>\n",
       "      <td>false</td>\n",
       "      <td>Other</td>\n",
       "      <td>NaN</td>\n",
       "      <td>NaN</td>\n",
       "      <td>NaN</td>\n",
       "      <td>NaN</td>\n",
       "      <td>United States</td>\n",
       "      <td>Qualified</td>\n",
       "      <td>2017-01-14 03:16:59</td>\n",
       "      <td>0</td>\n",
       "      <td>2017-01-19 15:10:36</td>\n",
       "      <td>true</td>\n",
       "      <td>2017-01-19</td>\n",
       "      <td>2017-01-13</td>\n",
       "      <td>2017-01-19</td>\n",
       "      <td>1</td>\n",
       "    </tr>\n",
       "    <tr>\n",
       "      <th>2316187</th>\n",
       "      <td>www.volusion.com/</td>\n",
       "      <td>desktop</td>\n",
       "      <td>(not set)</td>\n",
       "      <td>(not set)</td>\n",
       "      <td>servertrust.com</td>\n",
       "      <td>referral</td>\n",
       "      <td>(not set)</td>\n",
       "      <td>NaN</td>\n",
       "      <td>(not set)</td>\n",
       "      <td>(not set)</td>\n",
       "      <td>(not set)</td>\n",
       "      <td>(not set)</td>\n",
       "      <td>Slovenia</td>\n",
       "      <td>NaN</td>\n",
       "      <td>2017-07-12</td>\n",
       "      <td>direct</td>\n",
       "      <td>V1 Sales</td>\n",
       "      <td>Al Foote</td>\n",
       "      <td>NaN</td>\n",
       "      <td>NaN</td>\n",
       "      <td>NaN</td>\n",
       "      <td>false</td>\n",
       "      <td>Other</td>\n",
       "      <td>NaN</td>\n",
       "      <td>NaN</td>\n",
       "      <td>NaN</td>\n",
       "      <td>NaN</td>\n",
       "      <td>Slovenia</td>\n",
       "      <td>Qualified</td>\n",
       "      <td>2017-01-14 15:01:33</td>\n",
       "      <td>0</td>\n",
       "      <td>2017-01-26 17:35:35</td>\n",
       "      <td>true</td>\n",
       "      <td>2017-01-26</td>\n",
       "      <td>2017-01-14</td>\n",
       "      <td>2017-01-26</td>\n",
       "      <td>1</td>\n",
       "    </tr>\n",
       "    <tr>\n",
       "      <th>2319730</th>\n",
       "      <td>www.volusion.com/lp/sem/brand</td>\n",
       "      <td>desktop</td>\n",
       "      <td>Google Search</td>\n",
       "      <td>https://www.volusion.com/lp/sem/brand</td>\n",
       "      <td>google</td>\n",
       "      <td>cpc</td>\n",
       "      <td>(not set)</td>\n",
       "      <td>NaN</td>\n",
       "      <td>target cpa test</td>\n",
       "      <td>Volusion - Brand</td>\n",
       "      <td>volusion</td>\n",
       "      <td>Exact</td>\n",
       "      <td>United States</td>\n",
       "      <td>3081drRjRw9HWUex40WbaX0sUkh2dk1lszpF3Q0</td>\n",
       "      <td>2017-08-31</td>\n",
       "      <td>direct</td>\n",
       "      <td>V1 Sales</td>\n",
       "      <td>Al Foote</td>\n",
       "      <td>Matthew Atchison</td>\n",
       "      <td>NaN</td>\n",
       "      <td>NaN</td>\n",
       "      <td>false</td>\n",
       "      <td>Other</td>\n",
       "      <td>NaN</td>\n",
       "      <td>NaN</td>\n",
       "      <td>NaN</td>\n",
       "      <td>NaN</td>\n",
       "      <td>United States</td>\n",
       "      <td>Qualified</td>\n",
       "      <td>2017-01-22 23:15:33</td>\n",
       "      <td>0</td>\n",
       "      <td>2017-01-23 16:46:03</td>\n",
       "      <td>true</td>\n",
       "      <td>2017-02-14</td>\n",
       "      <td>2017-01-22</td>\n",
       "      <td>2017-02-14</td>\n",
       "      <td>1</td>\n",
       "    </tr>\n",
       "    <tr>\n",
       "      <th>2320062</th>\n",
       "      <td>www.volusion.com/blog/five-examples-of-volusio...</td>\n",
       "      <td>desktop</td>\n",
       "      <td>(not set)</td>\n",
       "      <td>(not set)</td>\n",
       "      <td>google</td>\n",
       "      <td>organic</td>\n",
       "      <td>(not set)</td>\n",
       "      <td>NaN</td>\n",
       "      <td>(not set)</td>\n",
       "      <td>(not set)</td>\n",
       "      <td>(not provided)</td>\n",
       "      <td>(not set)</td>\n",
       "      <td>United States</td>\n",
       "      <td>xr80mUzntTpA2sLxoP0wcyG7Ukh0qXxcESswUs0</td>\n",
       "      <td>2017-07-24</td>\n",
       "      <td>paid</td>\n",
       "      <td>V1 Sales</td>\n",
       "      <td>Damian Schillaci</td>\n",
       "      <td>Damian Schillaci</td>\n",
       "      <td>NaN</td>\n",
       "      <td>Duplicate Lead</td>\n",
       "      <td>true</td>\n",
       "      <td>Other</td>\n",
       "      <td>false</td>\n",
       "      <td>NaN</td>\n",
       "      <td>NaN</td>\n",
       "      <td>NaN</td>\n",
       "      <td>United States</td>\n",
       "      <td>Unqualified</td>\n",
       "      <td>2017-01-23 21:34:55</td>\n",
       "      <td>0</td>\n",
       "      <td>NaT</td>\n",
       "      <td>NaN</td>\n",
       "      <td>NaT</td>\n",
       "      <td>2017-01-23</td>\n",
       "      <td>2017-01-24</td>\n",
       "      <td>1</td>\n",
       "    </tr>\n",
       "  </tbody>\n",
       "</table>\n",
       "</div>"
      ],
      "text/plain": [
       "                                           landingPagePath deviceCategory  \\\n",
       "2314403                              www.volusion.com/grow        desktop   \n",
       "2315986                       store.volusion.com/login.asp        desktop   \n",
       "2316187                                  www.volusion.com/        desktop   \n",
       "2319730                      www.volusion.com/lp/sem/brand        desktop   \n",
       "2320062  www.volusion.com/blog/five-examples-of-volusio...        desktop   \n",
       "\n",
       "        adDistributionNetwork                       adDestinationUrl  \\\n",
       "2314403             (not set)                              (not set)   \n",
       "2315986             (not set)                              (not set)   \n",
       "2316187             (not set)                              (not set)   \n",
       "2319730         Google Search  https://www.volusion.com/lp/sem/brand   \n",
       "2320062             (not set)                              (not set)   \n",
       "\n",
       "                  source    medium socialNetwork transaction_id  \\\n",
       "2314403           google   organic     (not set)            NaN   \n",
       "2315986             bing   organic     (not set)            NaN   \n",
       "2316187  servertrust.com  referral     (not set)            NaN   \n",
       "2319730           google       cpc     (not set)            NaN   \n",
       "2320062           google   organic     (not set)            NaN   \n",
       "\n",
       "                campaign           adgroup         keyword adKeywordMatchType  \\\n",
       "2314403        (not set)         (not set)  (not provided)          (not set)   \n",
       "2315986        (not set)         (not set)  (not provided)          (not set)   \n",
       "2316187        (not set)         (not set)       (not set)          (not set)   \n",
       "2319730  target cpa test  Volusion - Brand        volusion              Exact   \n",
       "2320062        (not set)         (not set)  (not provided)          (not set)   \n",
       "\n",
       "            country_ms                                 click_id session_date  \\\n",
       "2314403         Canada                                      NaN   2017-08-01   \n",
       "2315986  United States                                      NaN   2017-07-13   \n",
       "2316187       Slovenia                                      NaN   2017-07-12   \n",
       "2319730  United States  3081drRjRw9HWUex40WbaX0sUkh2dk1lszpF3Q0   2017-08-31   \n",
       "2320062  United States  xr80mUzntTpA2sLxoP0wcyG7Ukh0qXxcESswUs0   2017-07-24   \n",
       "\n",
       "        Lead_Type__c leadsource Lead_Owner_Full_Name__c  \\\n",
       "2314403       direct   V1 Sales                 AJ Bale   \n",
       "2315986      organic   V1 Sales             Kelsey Long   \n",
       "2316187       direct   V1 Sales                Al Foote   \n",
       "2319730       direct   V1 Sales                Al Foote   \n",
       "2320062         paid   V1 Sales        Damian Schillaci   \n",
       "\n",
       "        Original_Lead_Owner__c Device_Type__c Reason_Not_Qualified__c  \\\n",
       "2314403                AJ Bale            NaN                     NaN   \n",
       "2315986            Kelsey Long            NaN                     NaN   \n",
       "2316187                    NaN            NaN                     NaN   \n",
       "2319730       Matthew Atchison            NaN                     NaN   \n",
       "2320062       Damian Schillaci            NaN          Duplicate Lead   \n",
       "\n",
       "        SMS_Opt_in__c Industry__c SocialSignUp__c Gender__c Have_products__c  \\\n",
       "2314403         false       Other             NaN       NaN              NaN   \n",
       "2315986         false       Other             NaN       NaN              NaN   \n",
       "2316187         false       Other             NaN       NaN              NaN   \n",
       "2319730         false       Other             NaN       NaN              NaN   \n",
       "2320062          true       Other           false       NaN              NaN   \n",
       "\n",
       "        Position__c        country       Status     lead_createdate  \\\n",
       "2314403         NaN         Canada    Qualified 2017-01-10 16:50:54   \n",
       "2315986         NaN  United States    Qualified 2017-01-14 03:16:59   \n",
       "2316187         NaN       Slovenia    Qualified 2017-01-14 15:01:33   \n",
       "2319730         NaN  United States    Qualified 2017-01-22 23:15:33   \n",
       "2320062         NaN  United States  Unqualified 2017-01-23 21:34:55   \n",
       "\n",
       "         converted_to_opp      opp_createdate iswon  CloseDate trial_date  \\\n",
       "2314403                 0 2017-01-10 17:14:26  true 2017-01-10 2017-01-10   \n",
       "2315986                 0 2017-01-19 15:10:36  true 2017-01-19 2017-01-13   \n",
       "2316187                 0 2017-01-26 17:35:35  true 2017-01-26 2017-01-14   \n",
       "2319730                 0 2017-01-23 16:46:03  true 2017-02-14 2017-01-22   \n",
       "2320062                 0                 NaT   NaN        NaT 2017-01-23   \n",
       "\n",
       "          sub_date  converted  \n",
       "2314403 2017-01-10          1  \n",
       "2315986 2017-01-19          1  \n",
       "2316187 2017-01-26          1  \n",
       "2319730 2017-02-14          1  \n",
       "2320062 2017-01-24          1  "
      ]
     },
     "execution_count": 71,
     "metadata": {},
     "output_type": "execute_result"
    }
   ],
   "source": [
    "data_merge[column_list].head()"
   ]
  },
  {
   "cell_type": "code",
   "execution_count": 68,
   "metadata": {},
   "outputs": [
    {
     "data": {
      "text/plain": [
       "Index(['first_demo_session', 'timestamp', 'date', 'session_id', 'customer_id',\n",
       "       's_version', 'u_version', 'landingPagePath', 'deviceCategory',\n",
       "       'adDistributionNetwork', 'adDestinationUrl', 'adwordsAdGroupId',\n",
       "       'source', 'medium', 'socialNetwork', 'demo_transaction_id', 'u_id',\n",
       "       'transaction_id', 'campaign', 'adgroup', 'keyword',\n",
       "       'adKeywordMatchType', 'Creative', 'country_ms', 'click_id',\n",
       "       'demo_session_position', 'session_date', 'Lead_Type__c', 'company',\n",
       "       'tenant_id__c', 'leadsource', 'Order_ID__c', 'Lead_Owner_Full_Name__c',\n",
       "       'Original_Lead_Owner__c', 'Device_Type__c',\n",
       "       'Number_of_products_selling__c', 'Reason_Not_Qualified__c',\n",
       "       'SMS_Opt_in__c', 'Timezone_editable__c', 'TimeZone__c', 'Industry__c',\n",
       "       'SocialSignUp__c', 'Gender__c', 'Last_Login_from_Admin__c',\n",
       "       'Have_products__c', 'Position__c', 'country', 'Status',\n",
       "       'lead_createdate', 'converted_to_opp', 'opp_createdate', 'iswon',\n",
       "       'CloseDate', 'created_date_dt', 'trial_date', 'sub_id', 'sub_date',\n",
       "       'converted', 'time_mismatch'],\n",
       "      dtype='object')"
      ]
     },
     "execution_count": 68,
     "metadata": {},
     "output_type": "execute_result"
    }
   ],
   "source": [
    "data_merge.columns"
   ]
  },
  {
   "cell_type": "code",
   "execution_count": null,
   "metadata": {
    "collapsed": true
   },
   "outputs": [],
   "source": []
  },
  {
   "cell_type": "code",
   "execution_count": 39,
   "metadata": {},
   "outputs": [
    {
     "data": {
      "text/plain": [
       "40326"
      ]
     },
     "execution_count": 39,
     "metadata": {},
     "output_type": "execute_result"
    }
   ],
   "source": [
    "len(paths['demo_lookup'].unique())"
   ]
  },
  {
   "cell_type": "code",
   "execution_count": 41,
   "metadata": {},
   "outputs": [
    {
     "data": {
      "text/plain": [
       "199121"
      ]
     },
     "execution_count": 41,
     "metadata": {},
     "output_type": "execute_result"
    }
   ],
   "source": [
    "len(trial_cohort['trial_id'].unique())"
   ]
  },
  {
   "cell_type": "code",
   "execution_count": 42,
   "metadata": {},
   "outputs": [
    {
     "data": {
      "text/html": [
       "<div>\n",
       "<style>\n",
       "    .dataframe thead tr:only-child th {\n",
       "        text-align: right;\n",
       "    }\n",
       "\n",
       "    .dataframe thead th {\n",
       "        text-align: left;\n",
       "    }\n",
       "\n",
       "    .dataframe tbody tr th {\n",
       "        vertical-align: top;\n",
       "    }\n",
       "</style>\n",
       "<table border=\"1\" class=\"dataframe\">\n",
       "  <thead>\n",
       "    <tr style=\"text-align: right;\">\n",
       "      <th></th>\n",
       "      <th>trial_id</th>\n",
       "      <th>trial_date</th>\n",
       "      <th>sub_id</th>\n",
       "      <th>sub_date</th>\n",
       "    </tr>\n",
       "  </thead>\n",
       "  <tbody>\n",
       "    <tr>\n",
       "      <th>0</th>\n",
       "      <td>1865994</td>\n",
       "      <td>2015-01-01</td>\n",
       "      <td>NaN</td>\n",
       "      <td>NaN</td>\n",
       "    </tr>\n",
       "    <tr>\n",
       "      <th>1</th>\n",
       "      <td>1866005</td>\n",
       "      <td>2015-01-01</td>\n",
       "      <td>NaN</td>\n",
       "      <td>NaN</td>\n",
       "    </tr>\n",
       "    <tr>\n",
       "      <th>2</th>\n",
       "      <td>1866013</td>\n",
       "      <td>2015-01-01</td>\n",
       "      <td>NaN</td>\n",
       "      <td>NaN</td>\n",
       "    </tr>\n",
       "    <tr>\n",
       "      <th>3</th>\n",
       "      <td>1866023</td>\n",
       "      <td>2015-01-01</td>\n",
       "      <td>NaN</td>\n",
       "      <td>NaN</td>\n",
       "    </tr>\n",
       "    <tr>\n",
       "      <th>4</th>\n",
       "      <td>1866028</td>\n",
       "      <td>2015-01-01</td>\n",
       "      <td>NaN</td>\n",
       "      <td>NaN</td>\n",
       "    </tr>\n",
       "  </tbody>\n",
       "</table>\n",
       "</div>"
      ],
      "text/plain": [
       "  trial_id  trial_date sub_id sub_date\n",
       "0  1865994  2015-01-01    NaN      NaN\n",
       "1  1866005  2015-01-01    NaN      NaN\n",
       "2  1866013  2015-01-01    NaN      NaN\n",
       "3  1866023  2015-01-01    NaN      NaN\n",
       "4  1866028  2015-01-01    NaN      NaN"
      ]
     },
     "execution_count": 42,
     "metadata": {},
     "output_type": "execute_result"
    }
   ],
   "source": [
    "trial_cohort.head()"
   ]
  },
  {
   "cell_type": "code",
   "execution_count": null,
   "metadata": {
    "collapsed": true
   },
   "outputs": [],
   "source": []
  },
  {
   "cell_type": "code",
   "execution_count": null,
   "metadata": {
    "collapsed": true
   },
   "outputs": [],
   "source": [
    "l"
   ]
  }
 ],
 "metadata": {
  "kernelspec": {
   "display_name": "Python 3",
   "language": "python",
   "name": "python3"
  },
  "language_info": {
   "codemirror_mode": {
    "name": "ipython",
    "version": 3
   },
   "file_extension": ".py",
   "mimetype": "text/x-python",
   "name": "python",
   "nbconvert_exporter": "python",
   "pygments_lexer": "ipython3",
   "version": "3.5.0"
  }
 },
 "nbformat": 4,
 "nbformat_minor": 2
}
